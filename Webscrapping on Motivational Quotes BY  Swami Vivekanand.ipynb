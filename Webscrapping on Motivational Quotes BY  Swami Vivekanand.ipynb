{
 "cells": [
  {
   "cell_type": "markdown",
   "id": "ce33a234",
   "metadata": {},
   "source": [
    "##                    @@@Webscrapping on Motivational Quotes BY  Swami Vivekanand@@@"
   ]
  },
  {
   "cell_type": "markdown",
   "id": "8a5e656f",
   "metadata": {},
   "source": [
    "###### 1) First in this notebook, put some comments about program using (#) so that way i can basically read the python code."
   ]
  },
  {
   "cell_type": "code",
   "execution_count": 1,
   "id": "d5bb3759",
   "metadata": {},
   "outputs": [],
   "source": [
    "#import Libraries\n",
    "import requests \n",
    "import urllib.request\n",
    "import pandas as pd\n",
    "from bs4 import BeautifulSoup"
   ]
  },
  {
   "cell_type": "markdown",
   "id": "1a1bf55e",
   "metadata": {},
   "source": [
    "##### 2) About import libraryes\n",
    "- Using requests library, we can fetch the content from the URL given.\n",
    "\n",
    "- beautiful soup library helps to parse,fetch the details the way we want.\n",
    "\n",
    "- Use requests and Beautiful Soup for scraping and parsing data from the Web.You can use a beautiful soup library to fetch data   using Html tag, class, id, css selector and many more ways.\n",
    "Pandas makes it easy to scrape a table (tag) on a web page.\n",
    "\n",
    "- After obtaining it as a DataFrame, it is possible to do various processing and save it as an Excel file or csv file.'''"
   ]
  },
  {
   "cell_type": "code",
   "execution_count": 2,
   "id": "3b685af5",
   "metadata": {},
   "outputs": [],
   "source": [
    "# Create list to store the scraped data.\n",
    "authors = []\n",
    "quotes = []"
   ]
  },
  {
   "cell_type": "markdown",
   "id": "ed7ec9bc",
   "metadata": {},
   "source": [
    "###### 3) Webscrapping on motivational quotes by Swami Vivekanand from a website. Website going to use it 'goodreads.com'."
   ]
  },
  {
   "cell_type": "code",
   "execution_count": 3,
   "id": "c7879281",
   "metadata": {},
   "outputs": [],
   "source": [
    "#Create variable url\n",
    "URL = 'https://www.goodreads.com/author/quotes/80592.Vivekananda?page=3'"
   ]
  },
  {
   "cell_type": "markdown",
   "id": "7f69e2b0",
   "metadata": {},
   "source": [
    "###### 4) GET method is used to retrieve information from the given server using a given URL.The GET method sends the encoded user information appended to the page request."
   ]
  },
  {
   "cell_type": "code",
   "execution_count": 4,
   "id": "a35f389a",
   "metadata": {},
   "outputs": [
    {
     "data": {
      "text/plain": [
       "<Response [200]>"
      ]
     },
     "execution_count": 4,
     "metadata": {},
     "output_type": "execute_result"
    }
   ],
   "source": [
    "# Make a request to website\n",
    "page=requests.get(URL)\n",
    "page"
   ]
  },
  {
   "cell_type": "markdown",
   "id": "b94b6f4b",
   "metadata": {},
   "source": [
    "###### 5) Need parser a html parser to parse the text from website."
   ]
  },
  {
   "cell_type": "markdown",
   "id": "a13f9c44",
   "metadata": {},
   "source": [
    "###### 6) Hightlight one of the quotes,that we want to scarp . Then right click on this and click inspect here,then we get the div tag and class is \"quoteText\". again open that getting span tag equal to \"autherOrTitle\"."
   ]
  },
  {
   "cell_type": "code",
   "execution_count": 5,
   "id": "d303f888",
   "metadata": {
    "collapsed": true
   },
   "outputs": [
    {
     "data": {
      "text/plain": [
       "[<div class=\"quoteText\">\n",
       "       “Give up the idea that by ruling over others you can do any good to them. But you can do just as much as you can in the case of the plant: you can supply the growing seed with the materials for the making up of its body, bringing to it the earth, the water, the air, that it wants. It will take all that it wants by its own nature, it will assimilate and grow by its own nature.”\n",
       "     <br/>\n",
       "   ―\n",
       "   <span class=\"authorOrTitle\">\n",
       "     Swami Vivekananda,\n",
       "   </span>\n",
       " <span id=\"quote_book_link_1172254\">\n",
       " <a class=\"authorOrTitle\" href=\"/work/quotes/1160010\">The Complete Works of Swami Vivekananda, Volume 3</a>\n",
       " </span>\n",
       " </div>,\n",
       " <div class=\"quoteText\">\n",
       "       “Be strong! … You talk of ghosts and devils. We are the living devils. The sign of life is strength and growth. The sign of death is weakness. Whatever is weak, avoid! It is death. If it is strength, go down into hell and get hold of it! There is salvation only for the brave. \"None but the brave deserves the fair.\" None but the bravest deserves salvation.”\n",
       "     <br/>\n",
       "   ―\n",
       "   <span class=\"authorOrTitle\">\n",
       "     Swami Vivekananda\n",
       "   </span>\n",
       " </div>,\n",
       " <div class=\"quoteText\">\n",
       "       “So long as the millions live in hunger and ignorance, I hold every person a traitor who, having been educated at their expense, pays not the least heed to them!”\n",
       "     <br/>\n",
       "   ―\n",
       "   <span class=\"authorOrTitle\">\n",
       "     Swami Vivekananda\n",
       "   </span>\n",
       " </div>,\n",
       " <div class=\"quoteText\">\n",
       "       “Even the greatest fool can accomplish a task if it were after his or her heart. But the intelligent ones are those who can convert every work into one that suits their taste.”\n",
       "     <br/>\n",
       "   ―\n",
       "   <span class=\"authorOrTitle\">\n",
       "     Swami Vivekananda\n",
       "   </span>\n",
       " </div>,\n",
       " <div class=\"quoteText\">\n",
       "       “The moment I have realized God sitting in the temple of every human body, the moment I stand in reverence before every human being and see God in him - that moment I am free from bondage, everything that binds vanishes, and I am free.”\n",
       "     <br/>\n",
       "   ―\n",
       "   <span class=\"authorOrTitle\">\n",
       "     Swami Vivekananda \n",
       "   </span>\n",
       " </div>,\n",
       " <div class=\"quoteText\">\n",
       "       “Blessed are they whose bodies get destroyed in the service of others.”\n",
       "     <br/>\n",
       "   ―\n",
       "   <span class=\"authorOrTitle\">\n",
       "     Swami Vivekananda\n",
       "   </span>\n",
       " </div>,\n",
       " <div class=\"quoteText\">\n",
       "       “Are you unselfish? That is the question. If you are, you will be perfect without reading a single religious book, without going into a single church or temple.”\n",
       "     <br/>\n",
       "   ―\n",
       "   <span class=\"authorOrTitle\">\n",
       "     Swami Vivekananda\n",
       "   </span>\n",
       " </div>,\n",
       " <div class=\"quoteText\">\n",
       "       “Don't look back—forward, infinite energy, infinite enthusiasm, infinite daring, and infinite patience—then alone can great deeds be accomplished.”\n",
       "     <br/>\n",
       "   ―\n",
       "   <span class=\"authorOrTitle\">\n",
       "     Swami Vivekananda\n",
       "   </span>\n",
       " </div>,\n",
       " <div class=\"quoteText\">\n",
       "       “Devotion to duty is the highest form of worship of God.”\n",
       "     <br/>\n",
       "   ―\n",
       "   <span class=\"authorOrTitle\">\n",
       "     Swami Vivekananda\n",
       "   </span>\n",
       " </div>,\n",
       " <div class=\"quoteText\">\n",
       "       “Truth can be stated in a thousand different ways, yet each one can be true.”\n",
       "     <br/>\n",
       "   ―\n",
       "   <span class=\"authorOrTitle\">\n",
       "     Swami Vivekananda\n",
       "   </span>\n",
       " </div>,\n",
       " <div class=\"quoteText\">\n",
       "       “The earth is enjoyed by heroes”—this is the unfailing truth. Be a hero. Always say, “I have no fear.”\n",
       "     <br/>\n",
       "   ―\n",
       "   <span class=\"authorOrTitle\">\n",
       "     Vivekananda\n",
       "   </span>\n",
       " </div>,\n",
       " <div class=\"quoteText\">\n",
       "       “Bless people when they revile you. Think how much good they are doing by helping to stamp out the false ego.”\n",
       "     <br/>\n",
       "   ―\n",
       "   <span class=\"authorOrTitle\">\n",
       "     Swami Vivekananda\n",
       "   </span>\n",
       " </div>,\n",
       " <div class=\"quoteText\">\n",
       "       “Be not afraid of anything. You will do marvellous work. It is fear that is the great cause of misery in the world. It is fear that is the greatest of all superstitions. It is fear that is the cause of all our woes, and it is fearlessness that brings heaven even in a moment. Therefore, \"arise, awake and stop not until the goal is reached.”\n",
       "     <br/>\n",
       "   ―\n",
       "   <span class=\"authorOrTitle\">\n",
       "     Swami Vivekananda\n",
       "   </span>\n",
       " </div>,\n",
       " <div class=\"quoteText\">\n",
       "       “This is a great fact: strength is life; weakness is death. Strength is felicity, life eternal, immortal; weakness is constant strain and misery, weakness is death.”\n",
       "     <br/>\n",
       "   ―\n",
       "   <span class=\"authorOrTitle\">\n",
       "     Swami Vivekananda\n",
       "   </span>\n",
       " </div>,\n",
       " <div class=\"quoteText\">\n",
       "       “Man is to become divine by realizing the divine. Idols or temples, or churches or books, are only the supports, the help of his spiritual childhood.”\n",
       "     <br/>\n",
       "   ―\n",
       "   <span class=\"authorOrTitle\">\n",
       "     Swami Vivekananda,\n",
       "   </span>\n",
       " <span id=\"quote_book_link_1417890\">\n",
       " <a class=\"authorOrTitle\" href=\"/work/quotes/548088\">Complete Works</a>\n",
       " </span>\n",
       " </div>,\n",
       " <div class=\"quoteText\">\n",
       "       “All truth is eternal. Truth is nobody’s property; no race, no individual can lay any exclusive claim to it. Truth is the nature of all souls.”\n",
       "     <br/>\n",
       "   ―\n",
       "   <span class=\"authorOrTitle\">\n",
       "     Swami Vivekananda\n",
       "   </span>\n",
       " </div>,\n",
       " <div class=\"quoteText\">\n",
       "       “Do good because it is good to do good. Ask no more.”\n",
       "     <br/>\n",
       "   ―\n",
       "   <span class=\"authorOrTitle\">\n",
       "     Swami Vivekananda,\n",
       "   </span>\n",
       " <span id=\"quote_book_link_18525111\">\n",
       " <a class=\"authorOrTitle\" href=\"/work/quotes/26229530\">Lectures on Bhagavad Gita</a>\n",
       " </span>\n",
       " </div>,\n",
       " <div class=\"quoteText\">\n",
       "       “God did not give me everything that i wanted. But, He gave me everything that i needed!”\n",
       "     <br/>\n",
       "   ―\n",
       "   <span class=\"authorOrTitle\">\n",
       "     Swami Vivekananda\n",
       "   </span>\n",
       " </div>,\n",
       " <div class=\"quoteText\">\n",
       "       “You need not worry or make yourself sleepless about the world; it will go on without you.”\n",
       "     <br/>\n",
       "   ―\n",
       "   <span class=\"authorOrTitle\">\n",
       "     Swami Vivekananda,\n",
       "   </span>\n",
       " <span id=\"quote_book_link_26145930\">\n",
       " <a class=\"authorOrTitle\" href=\"/work/quotes/812757\">Karma Yoga: The Yoga of action</a>\n",
       " </span>\n",
       " </div>,\n",
       " <div class=\"quoteText\">\n",
       "       “He who struggles is better than he who never attempts.”\n",
       "     <br/>\n",
       "   ―\n",
       "   <span class=\"authorOrTitle\">\n",
       "     Swami Vivekananda\n",
       "   </span>\n",
       " </div>,\n",
       " <div class=\"quoteText\">\n",
       "       “If in this hell of a world one can bring a little joy and peace even for a day into the heart of a single person, that much alone is true; this I have learnt after suffering all my life; all else is mere moonshine. . . .”\n",
       "     <br/>\n",
       "   ―\n",
       "   <span class=\"authorOrTitle\">\n",
       "     Swami Vivekananda\n",
       "   </span>\n",
       " </div>,\n",
       " <div class=\"quoteText\">\n",
       "       “The more we come out and do good to others, the more our hearts will be purified, and God will be in them.”\n",
       "     <br/>\n",
       "   ―\n",
       "   <span class=\"authorOrTitle\">\n",
       "     Swami Vivekananda \n",
       "   </span>\n",
       " </div>,\n",
       " <div class=\"quoteText\">\n",
       "       “The Tapas and the other hard Yogas that were practiced in other Yugas do not work now. What is needed in this Yuga is giving, helping others. ”\n",
       "     <br/>\n",
       "   ―\n",
       "   <span class=\"authorOrTitle\">\n",
       "     Swami Vivekananda\n",
       "   </span>\n",
       " </div>,\n",
       " <div class=\"quoteText\">\n",
       "       “Liberty is the first condition of growth. It is wrong, a thousand times wrong, if any of you dares to say, 'I will work out the salvation of this woman or child.”\n",
       "     <br/>\n",
       "   ―\n",
       "   <span class=\"authorOrTitle\">\n",
       "     Swami Vivekananda,\n",
       "   </span>\n",
       " <span id=\"quote_book_link_1172254\">\n",
       " <a class=\"authorOrTitle\" href=\"/work/quotes/1160010\">The Complete Works of Swami Vivekananda, Volume 3</a>\n",
       " </span>\n",
       " </div>,\n",
       " <div class=\"quoteText\">\n",
       "       “After every happiness comes misery; they may be far apart or near. The more advanced the soul, the more quickly does one follow the other. What we want is neither happiness nor misery. Both make us forget our true nature; both are chains--one iron, one gold; behind both is the Atman, who knows neither happiness nor misery. These are states, and states must ever change; but the nature of the Atman is bliss, peace, unchanging. We have not to get it, we have it; only wash away the dross and see it.”\n",
       "     <br/>\n",
       "   ―\n",
       "   <span class=\"authorOrTitle\">\n",
       "     Swami Vivekananda\n",
       "   </span>\n",
       " </div>,\n",
       " <div class=\"quoteText\">\n",
       "       “The Buddhists or the Jains do not depend upon God; but the whole force of their religion is directed to the great central truth in every religion, to evolve a God out of man. They have not seen the Father, but they have seen the Son. And he that hath seen the Son hath seen the Father also.”\n",
       "     <br/>\n",
       "   ―\n",
       "   <span class=\"authorOrTitle\">\n",
       "     Swami Vivekananda,\n",
       "   </span>\n",
       " <span id=\"quote_book_link_560932\">\n",
       " <a class=\"authorOrTitle\" href=\"/work/quotes/548088\">Complete Works of Swami Vivekananda, 9 Vols.</a>\n",
       " </span>\n",
       " </div>,\n",
       " <div class=\"quoteText\">\n",
       "       “It is a very hard thing to understand, but you will come to learn in time that nothing in the universe has power over you until you allow it to exercise such a power.”\n",
       "     <br/>\n",
       "   ―\n",
       "   <span class=\"authorOrTitle\">\n",
       "     Swami Vivekananda,\n",
       "   </span>\n",
       " <span id=\"quote_book_link_26145930\">\n",
       " <a class=\"authorOrTitle\" href=\"/work/quotes/812757\">Karma Yoga: The Yoga of action</a>\n",
       " </span>\n",
       " </div>,\n",
       " <div class=\"quoteText\">\n",
       "       “Talk to yourself at least once in a Day, otherwise you may miss a meeting with an EXCELLENT person in this World.”\n",
       "     <br/>\n",
       "   ―\n",
       "   <span class=\"authorOrTitle\">\n",
       "     Swami Vivekananda\n",
       "   </span>\n",
       " </div>,\n",
       " <div class=\"quoteText\">\n",
       "       “But there is yet time to change our ways. Give up all those old discussions, old fights about things which are meaningless, which are nonsensical in their very nature. Think of the last six hundred or seven hundred years of degradation when grown-up men by hundreds have been discussing for years whether we should drink a glass of water with the right hand or the left, whether the hand should be washed three times or four times, whether we should gargle five or six times. What can you expect from men who pass their lives in discussing such momentous questions as these and writing most learned philosophies on them! There is a danger of our religion getting into the kitchen. We are neither Vedantists, most of us now, nor Pauranics, nor Tantrics. We are just \"Don't-touchists\". Our religion is in the kitchen. Our God is the cooking-pot, and our religion is, \"Don't touch me, I am holy\". If this goes on for another century, every one of us will be in a lunatic asylum. It is a sure sign of softening of the brain when the mind cannot grasp the higher problems of life; all originality is lost, the mind has lost all its strength, its activity, and its power of thought, and just tries to go round and round the smallest curve it can find.”\n",
       "     <br/>\n",
       "   ―\n",
       "   <span class=\"authorOrTitle\">\n",
       "     Swami Vivekananda,\n",
       "   </span>\n",
       " <span id=\"quote_book_link_1172254\">\n",
       " <a class=\"authorOrTitle\" href=\"/work/quotes/1160010\">The Complete Works of Swami Vivekananda, Volume 3</a>\n",
       " </span>\n",
       " </div>,\n",
       " <div class=\"quoteText\">\n",
       "       “This universe is the wreckage of the infinite on the shores of the finite.”\n",
       "     <br/>\n",
       "   ―\n",
       "   <span class=\"authorOrTitle\">\n",
       "     Swami Vivekananda\n",
       "   </span>\n",
       " </div>]"
      ]
     },
     "execution_count": 5,
     "metadata": {},
     "output_type": "execute_result"
    }
   ],
   "source": [
    "soup=BeautifulSoup(page.text, 'html.parser') \n",
    "quoteText = soup.find_all('div', attrs={'class':'quoteText'}) \n",
    "soup.prettify\n",
    "# show quoteText\n",
    "quoteText"
   ]
  },
  {
   "cell_type": "code",
   "execution_count": 6,
   "id": "3002fa19",
   "metadata": {
    "collapsed": true
   },
   "outputs": [
    {
     "name": "stdout",
     "output_type": "stream",
     "text": [
      "“Give up the idea that by ruling over others you can do any good to them. But you can do just as much as you can in the case of the plant: you can supply the growing seed with the materials for the making up of its body, bringing to it the earth, the water, the air, that it wants. It will take all that it wants by its own nature, it will assimilate and grow by its own nature.”\n",
      "Swami Vivekananda,\n",
      "“Be strong! … You talk of ghosts and devils. We are the living devils. The sign of life is strength and growth. The sign of death is weakness. Whatever is weak, avoid! It is death. If it is strength, go down into hell and get hold of it! There is salvation only for the brave. \"None but the brave deserves the fair.\" None but the bravest deserves salvation.”\n",
      "Swami Vivekananda\n",
      "“So long as the millions live in hunger and ignorance, I hold every person a traitor who, having been educated at their expense, pays not the least heed to them!”\n",
      "Swami Vivekananda\n",
      "“Even the greatest fool can accomplish a task if it were after his or her heart. But the intelligent ones are those who can convert every work into one that suits their taste.”\n",
      "Swami Vivekananda\n",
      "“The moment I have realized God sitting in the temple of every human body, the moment I stand in reverence before every human being and see God in him - that moment I am free from bondage, everything that binds vanishes, and I am free.”\n",
      "Swami Vivekananda\n",
      "“Blessed are they whose bodies get destroyed in the service of others.”\n",
      "Swami Vivekananda\n",
      "“Are you unselfish? That is the question. If you are, you will be perfect without reading a single religious book, without going into a single church or temple.”\n",
      "Swami Vivekananda\n",
      "“Don't look back—forward, infinite energy, infinite enthusiasm, infinite daring, and infinite patience—then alone can great deeds be accomplished.”\n",
      "Swami Vivekananda\n",
      "“Devotion to duty is the highest form of worship of God.”\n",
      "Swami Vivekananda\n",
      "“Truth can be stated in a thousand different ways, yet each one can be true.”\n",
      "Swami Vivekananda\n",
      "“The earth is enjoyed by heroes”—this is the unfailing truth. Be a hero. Always say, “I have no fear.”\n",
      "Vivekananda\n",
      "“Bless people when they revile you. Think how much good they are doing by helping to stamp out the false ego.”\n",
      "Swami Vivekananda\n",
      "“Be not afraid of anything. You will do marvellous work. It is fear that is the great cause of misery in the world. It is fear that is the greatest of all superstitions. It is fear that is the cause of all our woes, and it is fearlessness that brings heaven even in a moment. Therefore, \"arise, awake and stop not until the goal is reached.”\n",
      "Swami Vivekananda\n",
      "“This is a great fact: strength is life; weakness is death. Strength is felicity, life eternal, immortal; weakness is constant strain and misery, weakness is death.”\n",
      "Swami Vivekananda\n",
      "“Man is to become divine by realizing the divine. Idols or temples, or churches or books, are only the supports, the help of his spiritual childhood.”\n",
      "Swami Vivekananda,\n",
      "“All truth is eternal. Truth is nobody’s property; no race, no individual can lay any exclusive claim to it. Truth is the nature of all souls.”\n",
      "Swami Vivekananda\n",
      "“Do good because it is good to do good. Ask no more.”\n",
      "Swami Vivekananda,\n",
      "“God did not give me everything that i wanted. But, He gave me everything that i needed!”\n",
      "Swami Vivekananda\n",
      "“You need not worry or make yourself sleepless about the world; it will go on without you.”\n",
      "Swami Vivekananda,\n",
      "“He who struggles is better than he who never attempts.”\n",
      "Swami Vivekananda\n",
      "“If in this hell of a world one can bring a little joy and peace even for a day into the heart of a single person, that much alone is true; this I have learnt after suffering all my life; all else is mere moonshine. . . .”\n",
      "Swami Vivekananda\n",
      "“The more we come out and do good to others, the more our hearts will be purified, and God will be in them.”\n",
      "Swami Vivekananda\n",
      "“The Tapas and the other hard Yogas that were practiced in other Yugas do not work now. What is needed in this Yuga is giving, helping others. ”\n",
      "Swami Vivekananda\n",
      "“Liberty is the first condition of growth. It is wrong, a thousand times wrong, if any of you dares to say, 'I will work out the salvation of this woman or child.”\n",
      "Swami Vivekananda,\n",
      "“After every happiness comes misery; they may be far apart or near. The more advanced the soul, the more quickly does one follow the other. What we want is neither happiness nor misery. Both make us forget our true nature; both are chains--one iron, one gold; behind both is the Atman, who knows neither happiness nor misery. These are states, and states must ever change; but the nature of the Atman is bliss, peace, unchanging. We have not to get it, we have it; only wash away the dross and see it.”\n",
      "Swami Vivekananda\n",
      "“The Buddhists or the Jains do not depend upon God; but the whole force of their religion is directed to the great central truth in every religion, to evolve a God out of man. They have not seen the Father, but they have seen the Son. And he that hath seen the Son hath seen the Father also.”\n",
      "Swami Vivekananda,\n",
      "“It is a very hard thing to understand, but you will come to learn in time that nothing in the universe has power over you until you allow it to exercise such a power.”\n",
      "Swami Vivekananda,\n",
      "“Talk to yourself at least once in a Day, otherwise you may miss a meeting with an EXCELLENT person in this World.”\n",
      "Swami Vivekananda\n",
      "“But there is yet time to change our ways. Give up all those old discussions, old fights about things which are meaningless, which are nonsensical in their very nature. Think of the last six hundred or seven hundred years of degradation when grown-up men by hundreds have been discussing for years whether we should drink a glass of water with the right hand or the left, whether the hand should be washed three times or four times, whether we should gargle five or six times. What can you expect from men who pass their lives in discussing such momentous questions as these and writing most learned philosophies on them! There is a danger of our religion getting into the kitchen. We are neither Vedantists, most of us now, nor Pauranics, nor Tantrics. We are just \"Don't-touchists\". Our religion is in the kitchen. Our God is the cooking-pot, and our religion is, \"Don't touch me, I am holy\". If this goes on for another century, every one of us will be in a lunatic asylum. It is a sure sign of softening of the brain when the mind cannot grasp the higher problems of life; all originality is lost, the mind has lost all its strength, its activity, and its power of thought, and just tries to go round and round the smallest curve it can find.”\n",
      "Swami Vivekananda,\n",
      "“This universe is the wreckage of the infinite on the shores of the finite.”\n",
      "Swami Vivekananda\n"
     ]
    }
   ],
   "source": [
    "for i in quoteText:\n",
    "    quote = i.text.strip().split('\\n')[0] # Remove spaces at the beginning and at the end of the string.\n",
    "    print(quote)                          # split the text on a new line.\n",
    "                                          # Print all of the quotes on this webpage using for loop.\n",
    "    author = i.find('span', attrs={'class':'authorOrTitle'}).text.strip()\n",
    "    print(author)"
   ]
  },
  {
   "cell_type": "markdown",
   "id": "1dda57af",
   "metadata": {},
   "source": [
    "##### 7) Create a function scrape tha website."
   ]
  },
  {
   "cell_type": "code",
   "execution_count": 7,
   "id": "315f7275",
   "metadata": {},
   "outputs": [],
   "source": [
    " def scrape_website(page_number):\n",
    "    page_num = str(page_number)\n",
    "    URL = 'https://www.goodreads.com/author/quotes/80592.Vivekananda?page=3'+ page_num\n",
    "    page=requests.get(URL)\n",
    "    soup=BeautifulSoup(page.text, 'html.parser')\n",
    "    quoteText = soup.find_all('div', attrs={'class':'quoteText'})\n",
    "    soup.prettify\n",
    "    \n",
    "    for i in quoteText:\n",
    "        quote = i.text.strip().split('\\n')[0] # Get the Quote\n",
    "        author = i.find('span', attrs={'class':'authorOrTitle'}).text.strip() # Get the Auther\n",
    "        quotes.append(quote)\n",
    "        authors.append(author)"
   ]
  },
  {
   "cell_type": "code",
   "execution_count": 8,
   "id": "84eb866f",
   "metadata": {},
   "outputs": [],
   "source": [
    "#scrap the website\n",
    "scrape_website(i) #We can iterate the page number on website"
   ]
  },
  {
   "cell_type": "code",
   "execution_count": 9,
   "id": "7c9f674b",
   "metadata": {
    "collapsed": true
   },
   "outputs": [
    {
     "data": {
      "text/plain": [
       "['“Give up the idea that by ruling over others you can do any good to them. But you can do just as much as you can in the case of the plant: you can supply the growing seed with the materials for the making up of its body, bringing to it the earth, the water, the air, that it wants. It will take all that it wants by its own nature, it will assimilate and grow by its own nature.”',\n",
       " '“Be strong! … You talk of ghosts and devils. We are the living devils. The sign of life is strength and growth. The sign of death is weakness. Whatever is weak, avoid! It is death. If it is strength, go down into hell and get hold of it! There is salvation only for the brave. \"None but the brave deserves the fair.\" None but the bravest deserves salvation.”',\n",
       " '“So long as the millions live in hunger and ignorance, I hold every person a traitor who, having been educated at their expense, pays not the least heed to them!”',\n",
       " '“Even the greatest fool can accomplish a task if it were after his or her heart. But the intelligent ones are those who can convert every work into one that suits their taste.”',\n",
       " '“The moment I have realized God sitting in the temple of every human body, the moment I stand in reverence before every human being and see God in him - that moment I am free from bondage, everything that binds vanishes, and I am free.”',\n",
       " '“Blessed are they whose bodies get destroyed in the service of others.”',\n",
       " '“Are you unselfish? That is the question. If you are, you will be perfect without reading a single religious book, without going into a single church or temple.”',\n",
       " \"“Don't look back—forward, infinite energy, infinite enthusiasm, infinite daring, and infinite patience—then alone can great deeds be accomplished.”\",\n",
       " '“Devotion to duty is the highest form of worship of God.”',\n",
       " '“Truth can be stated in a thousand different ways, yet each one can be true.”',\n",
       " '“The earth is enjoyed by heroes”—this is the unfailing truth. Be a hero. Always say, “I have no fear.”',\n",
       " '“Bless people when they revile you. Think how much good they are doing by helping to stamp out the false ego.”',\n",
       " '“Be not afraid of anything. You will do marvellous work. It is fear that is the great cause of misery in the world. It is fear that is the greatest of all superstitions. It is fear that is the cause of all our woes, and it is fearlessness that brings heaven even in a moment. Therefore, \"arise, awake and stop not until the goal is reached.”',\n",
       " '“This is a great fact: strength is life; weakness is death. Strength is felicity, life eternal, immortal; weakness is constant strain and misery, weakness is death.”',\n",
       " '“Man is to become divine by realizing the divine. Idols or temples, or churches or books, are only the supports, the help of his spiritual childhood.”',\n",
       " '“All truth is eternal. Truth is nobody’s property; no race, no individual can lay any exclusive claim to it. Truth is the nature of all souls.”',\n",
       " '“Do good because it is good to do good. Ask no more.”',\n",
       " '“God did not give me everything that i wanted. But, He gave me everything that i needed!”',\n",
       " '“You need not worry or make yourself sleepless about the world; it will go on without you.”',\n",
       " '“He who struggles is better than he who never attempts.”',\n",
       " '“If in this hell of a world one can bring a little joy and peace even for a day into the heart of a single person, that much alone is true; this I have learnt after suffering all my life; all else is mere moonshine. . . .”',\n",
       " '“The more we come out and do good to others, the more our hearts will be purified, and God will be in them.”',\n",
       " '“The Tapas and the other hard Yogas that were practiced in other Yugas do not work now. What is needed in this Yuga is giving, helping others. ”',\n",
       " \"“Liberty is the first condition of growth. It is wrong, a thousand times wrong, if any of you dares to say, 'I will work out the salvation of this woman or child.”\",\n",
       " '“After every happiness comes misery; they may be far apart or near. The more advanced the soul, the more quickly does one follow the other. What we want is neither happiness nor misery. Both make us forget our true nature; both are chains--one iron, one gold; behind both is the Atman, who knows neither happiness nor misery. These are states, and states must ever change; but the nature of the Atman is bliss, peace, unchanging. We have not to get it, we have it; only wash away the dross and see it.”',\n",
       " '“The Buddhists or the Jains do not depend upon God; but the whole force of their religion is directed to the great central truth in every religion, to evolve a God out of man. They have not seen the Father, but they have seen the Son. And he that hath seen the Son hath seen the Father also.”',\n",
       " '“It is a very hard thing to understand, but you will come to learn in time that nothing in the universe has power over you until you allow it to exercise such a power.”',\n",
       " '“Talk to yourself at least once in a Day, otherwise you may miss a meeting with an EXCELLENT person in this World.”',\n",
       " '“But there is yet time to change our ways. Give up all those old discussions, old fights about things which are meaningless, which are nonsensical in their very nature. Think of the last six hundred or seven hundred years of degradation when grown-up men by hundreds have been discussing for years whether we should drink a glass of water with the right hand or the left, whether the hand should be washed three times or four times, whether we should gargle five or six times. What can you expect from men who pass their lives in discussing such momentous questions as these and writing most learned philosophies on them! There is a danger of our religion getting into the kitchen. We are neither Vedantists, most of us now, nor Pauranics, nor Tantrics. We are just \"Don\\'t-touchists\". Our religion is in the kitchen. Our God is the cooking-pot, and our religion is, \"Don\\'t touch me, I am holy\". If this goes on for another century, every one of us will be in a lunatic asylum. It is a sure sign of softening of the brain when the mind cannot grasp the higher problems of life; all originality is lost, the mind has lost all its strength, its activity, and its power of thought, and just tries to go round and round the smallest curve it can find.”',\n",
       " '“This universe is the wreckage of the infinite on the shores of the finite.”']"
      ]
     },
     "execution_count": 9,
     "metadata": {},
     "output_type": "execute_result"
    }
   ],
   "source": [
    "#print the quotes\n",
    "quotes"
   ]
  },
  {
   "cell_type": "code",
   "execution_count": 10,
   "id": "6e5485a0",
   "metadata": {
    "collapsed": true
   },
   "outputs": [
    {
     "data": {
      "text/plain": [
       "['Swami Vivekananda,',\n",
       " 'Swami Vivekananda',\n",
       " 'Swami Vivekananda',\n",
       " 'Swami Vivekananda',\n",
       " 'Swami Vivekananda',\n",
       " 'Swami Vivekananda',\n",
       " 'Swami Vivekananda',\n",
       " 'Swami Vivekananda',\n",
       " 'Swami Vivekananda',\n",
       " 'Swami Vivekananda',\n",
       " 'Vivekananda',\n",
       " 'Swami Vivekananda',\n",
       " 'Swami Vivekananda',\n",
       " 'Swami Vivekananda',\n",
       " 'Swami Vivekananda,',\n",
       " 'Swami Vivekananda',\n",
       " 'Swami Vivekananda,',\n",
       " 'Swami Vivekananda',\n",
       " 'Swami Vivekananda,',\n",
       " 'Swami Vivekananda',\n",
       " 'Swami Vivekananda',\n",
       " 'Swami Vivekananda',\n",
       " 'Swami Vivekananda',\n",
       " 'Swami Vivekananda,',\n",
       " 'Swami Vivekananda',\n",
       " 'Swami Vivekananda,',\n",
       " 'Swami Vivekananda,',\n",
       " 'Swami Vivekananda',\n",
       " 'Swami Vivekananda,',\n",
       " 'Swami Vivekananda']"
      ]
     },
     "execution_count": 10,
     "metadata": {},
     "output_type": "execute_result"
    }
   ],
   "source": [
    "authors"
   ]
  },
  {
   "cell_type": "markdown",
   "id": "bc22aa22",
   "metadata": {},
   "source": [
    "##### 8 ) Create a Loop throught 'n' pages and scrape the data"
   ]
  },
  {
   "cell_type": "code",
   "execution_count": 11,
   "id": "5ad75db3",
   "metadata": {},
   "outputs": [],
   "source": [
    "\n",
    "n=4\n",
    "for num in range(0, n):  #create a loop & num range is 1 to n.\n",
    "    scrape_website(num)  # scrap the website at page num."
   ]
  },
  {
   "cell_type": "code",
   "execution_count": 12,
   "id": "be86fd5e",
   "metadata": {},
   "outputs": [],
   "source": [
    "# Combine the lists\n",
    "combine_list = [] #create a variable combine_list.\n",
    "#Loop throught the quotes list and combine it with the authors list\n",
    "for i in range(len(quotes)):\n",
    "    combine_list.append(quotes[i]+'-'+authors[i])    "
   ]
  },
  {
   "cell_type": "markdown",
   "id": "9413a70b",
   "metadata": {},
   "source": [
    "##### 9) Show the combine list"
   ]
  },
  {
   "cell_type": "code",
   "execution_count": 13,
   "id": "a41db923",
   "metadata": {
    "collapsed": true
   },
   "outputs": [
    {
     "data": {
      "text/plain": [
       "['“Give up the idea that by ruling over others you can do any good to them. But you can do just as much as you can in the case of the plant: you can supply the growing seed with the materials for the making up of its body, bringing to it the earth, the water, the air, that it wants. It will take all that it wants by its own nature, it will assimilate and grow by its own nature.”-Swami Vivekananda,',\n",
       " '“Be strong! … You talk of ghosts and devils. We are the living devils. The sign of life is strength and growth. The sign of death is weakness. Whatever is weak, avoid! It is death. If it is strength, go down into hell and get hold of it! There is salvation only for the brave. \"None but the brave deserves the fair.\" None but the bravest deserves salvation.”-Swami Vivekananda',\n",
       " '“So long as the millions live in hunger and ignorance, I hold every person a traitor who, having been educated at their expense, pays not the least heed to them!”-Swami Vivekananda',\n",
       " '“Even the greatest fool can accomplish a task if it were after his or her heart. But the intelligent ones are those who can convert every work into one that suits their taste.”-Swami Vivekananda',\n",
       " '“The moment I have realized God sitting in the temple of every human body, the moment I stand in reverence before every human being and see God in him - that moment I am free from bondage, everything that binds vanishes, and I am free.”-Swami Vivekananda',\n",
       " '“Blessed are they whose bodies get destroyed in the service of others.”-Swami Vivekananda',\n",
       " '“Are you unselfish? That is the question. If you are, you will be perfect without reading a single religious book, without going into a single church or temple.”-Swami Vivekananda',\n",
       " \"“Don't look back—forward, infinite energy, infinite enthusiasm, infinite daring, and infinite patience—then alone can great deeds be accomplished.”-Swami Vivekananda\",\n",
       " '“Devotion to duty is the highest form of worship of God.”-Swami Vivekananda',\n",
       " '“Truth can be stated in a thousand different ways, yet each one can be true.”-Swami Vivekananda',\n",
       " '“The earth is enjoyed by heroes”—this is the unfailing truth. Be a hero. Always say, “I have no fear.”-Vivekananda',\n",
       " '“Bless people when they revile you. Think how much good they are doing by helping to stamp out the false ego.”-Swami Vivekananda',\n",
       " '“Be not afraid of anything. You will do marvellous work. It is fear that is the great cause of misery in the world. It is fear that is the greatest of all superstitions. It is fear that is the cause of all our woes, and it is fearlessness that brings heaven even in a moment. Therefore, \"arise, awake and stop not until the goal is reached.”-Swami Vivekananda',\n",
       " '“This is a great fact: strength is life; weakness is death. Strength is felicity, life eternal, immortal; weakness is constant strain and misery, weakness is death.”-Swami Vivekananda',\n",
       " '“Man is to become divine by realizing the divine. Idols or temples, or churches or books, are only the supports, the help of his spiritual childhood.”-Swami Vivekananda,',\n",
       " '“All truth is eternal. Truth is nobody’s property; no race, no individual can lay any exclusive claim to it. Truth is the nature of all souls.”-Swami Vivekananda',\n",
       " '“Do good because it is good to do good. Ask no more.”-Swami Vivekananda,',\n",
       " '“God did not give me everything that i wanted. But, He gave me everything that i needed!”-Swami Vivekananda',\n",
       " '“You need not worry or make yourself sleepless about the world; it will go on without you.”-Swami Vivekananda,',\n",
       " '“He who struggles is better than he who never attempts.”-Swami Vivekananda',\n",
       " '“If in this hell of a world one can bring a little joy and peace even for a day into the heart of a single person, that much alone is true; this I have learnt after suffering all my life; all else is mere moonshine. . . .”-Swami Vivekananda',\n",
       " '“The more we come out and do good to others, the more our hearts will be purified, and God will be in them.”-Swami Vivekananda',\n",
       " '“The Tapas and the other hard Yogas that were practiced in other Yugas do not work now. What is needed in this Yuga is giving, helping others. ”-Swami Vivekananda',\n",
       " \"“Liberty is the first condition of growth. It is wrong, a thousand times wrong, if any of you dares to say, 'I will work out the salvation of this woman or child.”-Swami Vivekananda,\",\n",
       " '“After every happiness comes misery; they may be far apart or near. The more advanced the soul, the more quickly does one follow the other. What we want is neither happiness nor misery. Both make us forget our true nature; both are chains--one iron, one gold; behind both is the Atman, who knows neither happiness nor misery. These are states, and states must ever change; but the nature of the Atman is bliss, peace, unchanging. We have not to get it, we have it; only wash away the dross and see it.”-Swami Vivekananda',\n",
       " '“The Buddhists or the Jains do not depend upon God; but the whole force of their religion is directed to the great central truth in every religion, to evolve a God out of man. They have not seen the Father, but they have seen the Son. And he that hath seen the Son hath seen the Father also.”-Swami Vivekananda,',\n",
       " '“It is a very hard thing to understand, but you will come to learn in time that nothing in the universe has power over you until you allow it to exercise such a power.”-Swami Vivekananda,',\n",
       " '“Talk to yourself at least once in a Day, otherwise you may miss a meeting with an EXCELLENT person in this World.”-Swami Vivekananda',\n",
       " '“But there is yet time to change our ways. Give up all those old discussions, old fights about things which are meaningless, which are nonsensical in their very nature. Think of the last six hundred or seven hundred years of degradation when grown-up men by hundreds have been discussing for years whether we should drink a glass of water with the right hand or the left, whether the hand should be washed three times or four times, whether we should gargle five or six times. What can you expect from men who pass their lives in discussing such momentous questions as these and writing most learned philosophies on them! There is a danger of our religion getting into the kitchen. We are neither Vedantists, most of us now, nor Pauranics, nor Tantrics. We are just \"Don\\'t-touchists\". Our religion is in the kitchen. Our God is the cooking-pot, and our religion is, \"Don\\'t touch me, I am holy\". If this goes on for another century, every one of us will be in a lunatic asylum. It is a sure sign of softening of the brain when the mind cannot grasp the higher problems of life; all originality is lost, the mind has lost all its strength, its activity, and its power of thought, and just tries to go round and round the smallest curve it can find.”-Swami Vivekananda,',\n",
       " '“This universe is the wreckage of the infinite on the shores of the finite.”-Swami Vivekananda',\n",
       " '“Go into your own room and get the Upanishads out of your own Self. You are the greatest book that ever was or ever will be, the infinite depository of all that is. Until the inner teacher opens, all outside teaching is in vain.”-Swami Vivekananda,',\n",
       " '“In modern times this millennial aspiration takes the form of equality--of liberty, equality, and fraternity. This is also fanaticism. True equality has never been and never can be on earth.”-Vivekananda,',\n",
       " \"“I must love Him for love's sake. I cannot trade in love.”-Swami Vivekananda,\",\n",
       " '“Arise, awake, and stop not till the goal is reached. Arise, arise once more, for nothing can be done without renunciation.”-Swami Vivekananda',\n",
       " '“43. By making Samyama on the relation between the Akasha and the body and becoming light as cotton-wool etc., through meditation on them, the yogi goes through the skies. This Akasha is the material of this body; it is only Akasha in a certain form that has become the body. If the Yogi makes a Sanyama on this Akasha material of his body, it acquires the lightness of Akasha, and he can go anywhere through the air. So in the other case also.”-Swami Vivekananda,',\n",
       " '“Those who are constantly attached to Me and worship Me with love — I give that direction to their will by which they come to Me.”-Vivekananda,',\n",
       " '“The cause of all the miseries we have in the world is that men foolishly think pleasure to be the ideal to strive for.”-Swami Vivekananda,',\n",
       " '“We plainly see, therefore, that Bhakti is a series or succession of mental efforts at religious realisation beginning with ordinary worship and ending in a supreme intensity of love for Ishvara.”-Vivekananda,',\n",
       " '“Be unattached. Let things work; let brain centres work, work incessantly, but let not a ripple conquer the mind. Work as if you were a stranger in this land, a sojourner. Work incessantly, but do not bind yourselves. Bondage is terrible. This world is not our habitation. It is only one of the many stages through which we are passing. Remember that great saying of the Sankhya philosophy, \"The whole of nature is for the soul, not the soul for nature.\" The very reason for nature\\'s existence is the education of the soul. Is has no other meaning. It is there because the soul must have knowledge, and through knowledge free itself. If we remember this always, we shall never be attached to nature. We shall know that nature is a book we are to read, and that when we have gained the required knowledge, the book is of no more value to us.”-Swami Vivekananda',\n",
       " '“Man is an infinite circle whose circumference is nowhere, but whose center is located in one spot; and God is an infinite circle whose circumference is nowhere, but whose center is everywhere. He works through all hands, sees through all eyes, walks on all feet, breathes through all bodies, lives in all life, speaks through every mouth, and thinks through every brain. Man can become like God and acquire control over the whole universe if he multiplies infinitely his center of self — consciousness.”-Swami Vivekananada,',\n",
       " '“D esire, ignorance, and inequality this is the trinity of bondage”-Swami Vivekananda,',\n",
       " '“Again, we must consider, religion is a [matter of] growth, not a mass of foolish words.”-Swami Vivekananda,',\n",
       " '“T ruth can be stated in a thousand different ways Yet each one can be true”-Swami Vivekananda,',\n",
       " \"“We want that education by which character is formed, strength of mind is increased, the intellect is expanded, and by which one can stand on one's own feet.”-Swami Vivekananda\",\n",
       " '“Aye, born heir to the infinite thou art,within the heart is the ocean of love,\"give, give away,\" - whoever asks return,his ocean dwindles down to a mere drop.From the highest brahman to the yonder worm,and to the very minutest atom,Everywhere is the same god, the all-love;Friend, offer mind, soul, body, at their feet.These are his manifold forms before thee,rejecting them, where seekest thou for god?who loves all beings, without distinction,he indeed is worshipping best his god. Vivekananda”-Swami Vivekananda,',\n",
       " '“B ooks are infinite in number and time is short The secret of knowledge is to take what is essential Take that and try to live up to it”-Swami Vivekananda,',\n",
       " '“sweet”-Vivekananda,']"
      ]
     },
     "execution_count": 13,
     "metadata": {},
     "output_type": "execute_result"
    }
   ],
   "source": [
    "combine_list"
   ]
  },
  {
   "cell_type": "code",
   "execution_count": null,
   "id": "92085ad4",
   "metadata": {},
   "outputs": [],
   "source": []
  },
  {
   "cell_type": "code",
   "execution_count": null,
   "id": "f088e0f9",
   "metadata": {},
   "outputs": [],
   "source": []
  },
  {
   "cell_type": "code",
   "execution_count": null,
   "id": "3cbfbd4a",
   "metadata": {},
   "outputs": [],
   "source": []
  },
  {
   "cell_type": "code",
   "execution_count": null,
   "id": "de58b6cc",
   "metadata": {},
   "outputs": [],
   "source": []
  },
  {
   "cell_type": "code",
   "execution_count": null,
   "id": "b1742133",
   "metadata": {},
   "outputs": [],
   "source": []
  }
 ],
 "metadata": {
  "kernelspec": {
   "display_name": "Python 3 (ipykernel)",
   "language": "python",
   "name": "python3"
  },
  "language_info": {
   "codemirror_mode": {
    "name": "ipython",
    "version": 3
   },
   "file_extension": ".py",
   "mimetype": "text/x-python",
   "name": "python",
   "nbconvert_exporter": "python",
   "pygments_lexer": "ipython3",
   "version": "3.10.9"
  }
 },
 "nbformat": 4,
 "nbformat_minor": 5
}
